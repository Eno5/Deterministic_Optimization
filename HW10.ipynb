{
  "nbformat": 4,
  "nbformat_minor": 0,
  "metadata": {
    "colab": {
      "name": "HW10.ipynb",
      "provenance": [],
      "collapsed_sections": []
    },
    "kernelspec": {
      "name": "python3",
      "display_name": "Python 3"
    },
    "language_info": {
      "name": "python"
    }
  },
  "cells": [
    {
      "cell_type": "code",
      "execution_count": 1,
      "metadata": {
        "id": "e9hLo_qdp_Dl"
      },
      "outputs": [],
      "source": [
        "import numpy as np\n",
        "import pandas as pd\n",
        "import cvxpy as cvx"
      ]
    },
    {
      "cell_type": "markdown",
      "source": [
        "##Q2"
      ],
      "metadata": {
        "id": "95yKV5b4Iiu1"
      }
    },
    {
      "cell_type": "code",
      "source": [
        "# Providing Input\n",
        "c = np.array([1,1,1])\n",
        "A = np.array([[10,0,0],\n",
        "               [0,7,0],\n",
        "               [0,0,5]]).T\n",
        "b = np.array([15,30,20])\n",
        "\n",
        "# Declaring Variables\n",
        "x = cvx.Variable(3)\n",
        "\n",
        "# Defining Objective\n",
        "rmp_objective = cvx.Minimize(x@c)\n",
        "\n",
        "rmp_constraints =  [A@x == b, x >= 0]\n",
        "\n",
        "rmp_model = cvx.Problem(rmp_objective, rmp_constraints)\n",
        "rmp_model.solve()\n",
        "\n",
        "# Printing Outputs \n",
        "print(\"The optimal value is\", round(rmp_model.value,2))\n",
        "print(\"x values:\", x.value)\n",
        "# Rounded values: \n",
        "print(\"Rounded x values:\", [round(i,2) for i in x.value] )\n",
        "print(\"The dual values:\", -rmp_constraints[0].dual_value)"
      ],
      "metadata": {
        "id": "Gc2b6Gm2tsK4",
        "colab": {
          "base_uri": "https://localhost:8080/"
        },
        "outputId": "ebce8991-2ab8-42bc-d263-1c5eb1542a87"
      },
      "execution_count": 2,
      "outputs": [
        {
          "output_type": "stream",
          "name": "stdout",
          "text": [
            "The optimal value is 9.79\n",
            "x values: [1.5        4.28571429 4.        ]\n",
            "Rounded x values: [1.5, 4.29, 4.0]\n",
            "The dual values: [0.1        0.14285714 0.2       ]\n"
          ]
        }
      ]
    },
    {
      "cell_type": "markdown",
      "source": [
        "##Q3"
      ],
      "metadata": {
        "id": "gD3zY0RtNioy"
      }
    },
    {
      "cell_type": "code",
      "source": [
        "# Providing Input\n",
        "y = np.array([1/10,1/7,1/5])\n",
        "w = np.array([7,11,16])\n",
        "\n",
        "# Declaring Variables\n",
        "a = cvx.Variable(3, integer=True)\n",
        "\n",
        "# Defining Objective\n",
        "pricing_objective = cvx.Maximize(a@y)\n",
        "\n",
        "pricing_constraints =  [w@a <= 80, a >= 0]\n",
        "\n",
        "pricing_model = cvx.Problem(pricing_objective, pricing_constraints)\n",
        "pricing_model.solve()\n",
        "\n",
        "# Printing Outputs \n",
        "print(\"The optimal value is\", round(pricing_model.value,2))\n",
        "print(\"a values:\", a.value)"
      ],
      "metadata": {
        "colab": {
          "base_uri": "https://localhost:8080/"
        },
        "id": "BXJLoS1TNk6H",
        "outputId": "223591be-1cbf-47a7-ff2d-31327f872142"
      },
      "execution_count": 3,
      "outputs": [
        {
          "output_type": "stream",
          "name": "stdout",
          "text": [
            "The optimal value is 1.1\n",
            "a values: [11.  0.  0.]\n"
          ]
        }
      ]
    },
    {
      "cell_type": "markdown",
      "source": [
        "##Q5"
      ],
      "metadata": {
        "id": "lFdy6bSXQphr"
      }
    },
    {
      "cell_type": "code",
      "source": [
        "i = 2\n",
        "while round(1-pricing_model.value,2) < 0:\n",
        "  print(f\"\\n\\nIteration {i}\")\n",
        "  # Cutting Problem\n",
        "  A = np.append(A,[[el] for el in a.value],axis=1)\n",
        "  n = A.shape[1]\n",
        "  c = np.ones(n)\n",
        "  x = cvx.Variable(n)\n",
        "\n",
        "  rmp_objective = cvx.Minimize(x@c)\n",
        "  rmp_constraints =  [A@x == b, x >= 0]\n",
        "\n",
        "  rmp_model = cvx.Problem(rmp_objective, rmp_constraints)\n",
        "  rmp_model.solve()\n",
        "  y = -rmp_constraints[0].dual_value\n",
        "\n",
        "  # Printing Outputs \n",
        "  print(\"The RMP optimal value is\", round(rmp_model.value,2))\n",
        "  # Rounded values: \n",
        "  print(\"Rounded x values:\", [round(i,2) for i in x.value] )\n",
        "  print(\"The dual values:\", y)\n",
        "\n",
        "  # Pricing Problem\n",
        "  pricing_objective = cvx.Maximize(a@y)\n",
        "\n",
        "  pricing_model = cvx.Problem(pricing_objective, pricing_constraints)\n",
        "  pricing_model.solve()\n",
        "\n",
        "  # Printing Outputs \n",
        "  print(\"The pricing optimal value is\", round(pricing_model.value,2))\n",
        "  print(\"a values:\", a.value)\n",
        "\n",
        "  i += 1"
      ],
      "metadata": {
        "colab": {
          "base_uri": "https://localhost:8080/"
        },
        "id": "AQH349cnQqa-",
        "outputId": "e214feaa-19cc-4e6d-c970-3b1fecd12823"
      },
      "execution_count": 5,
      "outputs": [
        {
          "output_type": "stream",
          "name": "stdout",
          "text": [
            "\n",
            "\n",
            "Iteration 2\n",
            "The RMP optimal value is 9.65\n",
            "Rounded x values: [0.0, 4.29, 4.0, 1.36]\n",
            "The dual values: [0.09090909 0.14285714 0.2       ]\n",
            "The pricing optimal value is 1.04\n",
            "a values: [2. 6. 0.]\n",
            "\n",
            "\n",
            "Iteration 3\n",
            "The RMP optimal value is 9.45\n",
            "Rounded x values: [0.0, 0.0, 4.0, 0.45, 5.0]\n",
            "The dual values: [0.09090909 0.13636364 0.2       ]\n",
            "The pricing optimal value is 1.02\n",
            "a values: [9. 0. 1.]\n",
            "\n",
            "\n",
            "Iteration 4\n",
            "The RMP optimal value is 9.44\n",
            "Rounded x values: [0.0, 0.0, 3.89, 0.0, 5.0, 0.56]\n",
            "The dual values: [0.08888889 0.13703704 0.2       ]\n",
            "The pricing optimal value is 1.01\n",
            "a values: [6. 2. 1.]\n",
            "\n",
            "\n",
            "Iteration 5\n",
            "The RMP optimal value is 9.44\n",
            "Rounded x values: [0.0, 0.0, 3.81, 0.0, 4.69, 0.0, 0.94]\n",
            "The dual values: [0.0875 0.1375 0.2   ]\n",
            "The pricing optimal value is 1.0\n",
            "a values: [0. 0. 5.]\n"
          ]
        }
      ]
    }
  ]
}