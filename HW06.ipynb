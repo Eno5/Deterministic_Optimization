{
  "nbformat": 4,
  "nbformat_minor": 0,
  "metadata": {
    "colab": {
      "name": "HW06.ipynb",
      "provenance": [],
      "collapsed_sections": []
    },
    "kernelspec": {
      "name": "python3",
      "display_name": "Python 3"
    },
    "language_info": {
      "name": "python"
    }
  },
  "cells": [
    {
      "cell_type": "code",
      "execution_count": 1,
      "metadata": {
        "id": "g1XzgAD8CQ3C"
      },
      "outputs": [],
      "source": [
        "import numpy as np\n",
        "import cvxpy as cvx"
      ]
    },
    {
      "cell_type": "markdown",
      "source": [
        "# Q1"
      ],
      "metadata": {
        "id": "Bfz7WBZVCWoa"
      }
    },
    {
      "cell_type": "code",
      "source": [
        "# Declaring Variables\n",
        "z = cvx.Variable(1)\n",
        "x = cvx.Variable(2)\n",
        "\n",
        "# Defining Objective\n",
        "objective = cvx.Minimize(z)\n",
        "\n",
        "# Defining Constraints\n",
        "A = np.array([-1, 2])\n",
        "x_min = np.array([30, 0])\n",
        "x_max = np.array([100, 100])\n",
        "c = np.array([1, 1])\n",
        "\n",
        "constraints =  [A @ x >= -z,\n",
        "                A @ x <= z,\n",
        "                x >= x_min,\n",
        "                x <= x_max,\n",
        "                c @ x >= 50,\n",
        "            ]\n",
        "\n",
        "model = cvx.Problem(objective, constraints)\n",
        "model.solve()\n",
        "\n",
        "# Printing Outputs \n",
        "\n",
        "print(\"\\nThe optimal value is\", round(model.value,2))\n",
        "print(\"x values:\",  x.value)\n",
        "print(\"rounded x values:\", [round(i,2) for i in x.value] )"
      ],
      "metadata": {
        "colab": {
          "base_uri": "https://localhost:8080/"
        },
        "id": "C3mxVbqDCUuC",
        "outputId": "a7bfad87-f78d-427b-e60d-af052b4738a6"
      },
      "execution_count": 3,
      "outputs": [
        {
          "output_type": "stream",
          "name": "stdout",
          "text": [
            "\n",
            "The optimal value is 0.0\n",
            "x values: [57.94946577 28.97473288]\n",
            "rounded x values: [57.95, 28.97]\n"
          ]
        }
      ]
    },
    {
      "cell_type": "markdown",
      "source": [
        "# Q2"
      ],
      "metadata": {
        "id": "TcbgBIYWEwxC"
      }
    },
    {
      "cell_type": "code",
      "source": [
        "# Declaring Variables\n",
        "z = cvx.Variable(1)\n",
        "x = cvx.Variable(2)\n",
        "\n",
        "# Defining Objective\n",
        "objective = cvx.Minimize(z)\n",
        "\n",
        "# Defining Constraints\n",
        "under_100_b = np.array([10, 0])\n",
        "over_100_b = np.array([10, 5])\n",
        "x_min = np.array([0, 0])\n",
        "c = np.array([1, 1])\n",
        "\n",
        "constraints =  [under_100_b @ x + 1200 <= z,\n",
        "                over_100_b @ x + 700 <= z,\n",
        "                x >= x_min,\n",
        "                c @ x == 500,\n",
        "            ]\n",
        "\n",
        "model = cvx.Problem(objective, constraints)\n",
        "model.solve()\n",
        "\n",
        "# Printing Outputs \n",
        "\n",
        "print(\"\\nThe optimal value is\", round(model.value,2))\n",
        "print(\"x values:\",  x.value)\n",
        "print(\"rounded x values:\", [round(i,2) for i in x.value] )"
      ],
      "metadata": {
        "colab": {
          "base_uri": "https://localhost:8080/"
        },
        "id": "x5054eGOEx1I",
        "outputId": "782e31fc-ae93-42d1-82bd-8068113adfd1"
      },
      "execution_count": 4,
      "outputs": [
        {
          "output_type": "stream",
          "name": "stdout",
          "text": [
            "\n",
            "The optimal value is 3200.0\n",
            "x values: [1.15511929e-06 4.99999999e+02]\n",
            "rounded x values: [0.0, 500.0]\n"
          ]
        }
      ]
    }
  ]
}